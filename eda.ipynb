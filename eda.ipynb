{
 "cells": [
  {
   "cell_type": "code",
   "execution_count": 127,
   "metadata": {},
   "outputs": [],
   "source": [
    "import seaborn as sns\n",
    "import pandas as pd\n",
    "import matplotlib.pyplot as plt\n",
    "from collections import Counter\n",
    "import string\n",
    "import numpy as np\n",
    "import random"
   ]
  },
  {
   "cell_type": "code",
   "execution_count": 117,
   "metadata": {},
   "outputs": [],
   "source": [
    "orig_solutions = pd.read_csv('mystery_words.csv', header=None)[0].to_list()\n",
    "orig_solutions = list(map(lambda x: x.upper(), orig_solutions))\n",
    "solutions = list(map(lambda x: list(x), orig_solutions))\n",
    "orig_herrings = pd.read_csv('guessable_words.csv', header=None)[0].to_list()\n",
    "orig_herrings = list(map(lambda x: x.upper(), orig_herrings))\n",
    "herrings = list(map(lambda x: list(x), orig_herrings))"
   ]
  },
  {
   "cell_type": "code",
   "execution_count": 118,
   "metadata": {},
   "outputs": [
    {
     "data": {
      "text/html": [
       "<div>\n",
       "<style scoped>\n",
       "    .dataframe tbody tr th:only-of-type {\n",
       "        vertical-align: middle;\n",
       "    }\n",
       "\n",
       "    .dataframe tbody tr th {\n",
       "        vertical-align: top;\n",
       "    }\n",
       "\n",
       "    .dataframe thead th {\n",
       "        text-align: right;\n",
       "    }\n",
       "</style>\n",
       "<table border=\"1\" class=\"dataframe\">\n",
       "  <thead>\n",
       "    <tr style=\"text-align: right;\">\n",
       "      <th></th>\n",
       "      <th>1</th>\n",
       "      <th>2</th>\n",
       "      <th>3</th>\n",
       "      <th>4</th>\n",
       "      <th>5</th>\n",
       "    </tr>\n",
       "  </thead>\n",
       "  <tbody>\n",
       "    <tr>\n",
       "      <th>0</th>\n",
       "      <td>A</td>\n",
       "      <td>B</td>\n",
       "      <td>A</td>\n",
       "      <td>C</td>\n",
       "      <td>K</td>\n",
       "    </tr>\n",
       "    <tr>\n",
       "      <th>1</th>\n",
       "      <td>A</td>\n",
       "      <td>B</td>\n",
       "      <td>A</td>\n",
       "      <td>S</td>\n",
       "      <td>E</td>\n",
       "    </tr>\n",
       "    <tr>\n",
       "      <th>2</th>\n",
       "      <td>A</td>\n",
       "      <td>B</td>\n",
       "      <td>A</td>\n",
       "      <td>T</td>\n",
       "      <td>E</td>\n",
       "    </tr>\n",
       "    <tr>\n",
       "      <th>3</th>\n",
       "      <td>A</td>\n",
       "      <td>B</td>\n",
       "      <td>B</td>\n",
       "      <td>E</td>\n",
       "      <td>Y</td>\n",
       "    </tr>\n",
       "    <tr>\n",
       "      <th>4</th>\n",
       "      <td>A</td>\n",
       "      <td>B</td>\n",
       "      <td>B</td>\n",
       "      <td>O</td>\n",
       "      <td>T</td>\n",
       "    </tr>\n",
       "    <tr>\n",
       "      <th>...</th>\n",
       "      <td>...</td>\n",
       "      <td>...</td>\n",
       "      <td>...</td>\n",
       "      <td>...</td>\n",
       "      <td>...</td>\n",
       "    </tr>\n",
       "    <tr>\n",
       "      <th>2310</th>\n",
       "      <td>Y</td>\n",
       "      <td>O</td>\n",
       "      <td>U</td>\n",
       "      <td>N</td>\n",
       "      <td>G</td>\n",
       "    </tr>\n",
       "    <tr>\n",
       "      <th>2311</th>\n",
       "      <td>Y</td>\n",
       "      <td>O</td>\n",
       "      <td>U</td>\n",
       "      <td>T</td>\n",
       "      <td>H</td>\n",
       "    </tr>\n",
       "    <tr>\n",
       "      <th>2312</th>\n",
       "      <td>Z</td>\n",
       "      <td>E</td>\n",
       "      <td>B</td>\n",
       "      <td>R</td>\n",
       "      <td>A</td>\n",
       "    </tr>\n",
       "    <tr>\n",
       "      <th>2313</th>\n",
       "      <td>Z</td>\n",
       "      <td>E</td>\n",
       "      <td>S</td>\n",
       "      <td>T</td>\n",
       "      <td>Y</td>\n",
       "    </tr>\n",
       "    <tr>\n",
       "      <th>2314</th>\n",
       "      <td>Z</td>\n",
       "      <td>O</td>\n",
       "      <td>N</td>\n",
       "      <td>A</td>\n",
       "      <td>L</td>\n",
       "    </tr>\n",
       "  </tbody>\n",
       "</table>\n",
       "<p>2315 rows × 5 columns</p>\n",
       "</div>"
      ],
      "text/plain": [
       "      1  2  3  4  5\n",
       "0     A  B  A  C  K\n",
       "1     A  B  A  S  E\n",
       "2     A  B  A  T  E\n",
       "3     A  B  B  E  Y\n",
       "4     A  B  B  O  T\n",
       "...  .. .. .. .. ..\n",
       "2310  Y  O  U  N  G\n",
       "2311  Y  O  U  T  H\n",
       "2312  Z  E  B  R  A\n",
       "2313  Z  E  S  T  Y\n",
       "2314  Z  O  N  A  L\n",
       "\n",
       "[2315 rows x 5 columns]"
      ]
     },
     "execution_count": 118,
     "metadata": {},
     "output_type": "execute_result"
    }
   ],
   "source": [
    "letter_map = pd.DataFrame(solutions)\n",
    "letter_map.columns = ['1', '2', '3', '4', '5']\n",
    "letter_map"
   ]
  },
  {
   "cell_type": "code",
   "execution_count": 119,
   "metadata": {},
   "outputs": [
    {
     "data": {
      "text/plain": [
       "<AxesSubplot:>"
      ]
     },
     "execution_count": 119,
     "metadata": {},
     "output_type": "execute_result"
    },
    {
     "data": {
      "image/png": "[encoded data removed]",
      "text/plain": [
       "<Figure size 360x1152 with 2 Axes>"
      ]
     },
     "metadata": {
      "needs_background": "light"
     },
     "output_type": "display_data"
    }
   ],
   "source": [
    "counters = [Counter(letter_map[str(i+1)]) for i in range(len(letter_map.columns))]\n",
    "fig = plt.figure(figsize=(5,16))\n",
    "num_letters = pd.DataFrame(counters)\n",
    "sns.heatmap(num_letters.T, yticklabels=list(string.ascii_uppercase), cmap=sns.color_palette(\"ch:start=.2,rot=-.3\", as_cmap=True))\n"
   ]
  },
  {
   "cell_type": "code",
   "execution_count": 120,
   "metadata": {},
   "outputs": [
    {
     "data": {
      "text/plain": [
       "<AxesSubplot:>"
      ]
     },
     "execution_count": 120,
     "metadata": {},
     "output_type": "execute_result"
    },
    {
     "data": {
      "image/png": "[encoded data removed]",
      "text/plain": [
       "<Figure size 432x288 with 1 Axes>"
      ]
     },
     "metadata": {
      "needs_background": "light"
     },
     "output_type": "display_data"
    }
   ],
   "source": [
    "totals = Counter()\n",
    "for counter in counters:\n",
    "    totals.update(counter)\n",
    "top_8_letters = totals.most_common(8)\n",
    "letters, heights = list(zip(*top_8_letters))\n",
    "sns.barplot(x=list(letters), y=list(heights), color='black')"
   ]
  },
  {
   "cell_type": "code",
   "execution_count": 159,
   "metadata": {},
   "outputs": [
    {
     "data": {
      "text/html": [
       "<div>\n",
       "<style scoped>\n",
       "    .dataframe tbody tr th:only-of-type {\n",
       "        vertical-align: middle;\n",
       "    }\n",
       "\n",
       "    .dataframe tbody tr th {\n",
       "        vertical-align: top;\n",
       "    }\n",
       "\n",
       "    .dataframe thead th {\n",
       "        text-align: right;\n",
       "    }\n",
       "</style>\n",
       "<table border=\"1\" class=\"dataframe\">\n",
       "  <thead>\n",
       "    <tr style=\"text-align: right;\">\n",
       "      <th></th>\n",
       "      <th>herring</th>\n",
       "      <th>greens</th>\n",
       "      <th>yellows</th>\n",
       "      <th>sum</th>\n",
       "    </tr>\n",
       "  </thead>\n",
       "  <tbody>\n",
       "    <tr>\n",
       "      <th>0</th>\n",
       "      <td>AAHED</td>\n",
       "      <td>0.384449</td>\n",
       "      <td>1.180562</td>\n",
       "      <td>1.949460</td>\n",
       "    </tr>\n",
       "    <tr>\n",
       "      <th>1</th>\n",
       "      <td>AALII</td>\n",
       "      <td>0.313607</td>\n",
       "      <td>1.310583</td>\n",
       "      <td>1.937797</td>\n",
       "    </tr>\n",
       "    <tr>\n",
       "      <th>2</th>\n",
       "      <td>AARGH</td>\n",
       "      <td>0.355508</td>\n",
       "      <td>1.084665</td>\n",
       "      <td>1.795680</td>\n",
       "    </tr>\n",
       "    <tr>\n",
       "      <th>3</th>\n",
       "      <td>AARTI</td>\n",
       "      <td>0.327430</td>\n",
       "      <td>1.387041</td>\n",
       "      <td>2.041901</td>\n",
       "    </tr>\n",
       "    <tr>\n",
       "      <th>4</th>\n",
       "      <td>ABACA</td>\n",
       "      <td>0.293737</td>\n",
       "      <td>1.193089</td>\n",
       "      <td>1.780562</td>\n",
       "    </tr>\n",
       "    <tr>\n",
       "      <th>...</th>\n",
       "      <td>...</td>\n",
       "      <td>...</td>\n",
       "      <td>...</td>\n",
       "      <td>...</td>\n",
       "    </tr>\n",
       "    <tr>\n",
       "      <th>12967</th>\n",
       "      <td>ZUZIM</td>\n",
       "      <td>0.172786</td>\n",
       "      <td>0.463067</td>\n",
       "      <td>0.808639</td>\n",
       "    </tr>\n",
       "    <tr>\n",
       "      <th>12968</th>\n",
       "      <td>ZYGAL</td>\n",
       "      <td>0.177970</td>\n",
       "      <td>0.819438</td>\n",
       "      <td>1.175378</td>\n",
       "    </tr>\n",
       "    <tr>\n",
       "      <th>12969</th>\n",
       "      <td>ZYGON</td>\n",
       "      <td>0.153348</td>\n",
       "      <td>0.699784</td>\n",
       "      <td>1.006479</td>\n",
       "    </tr>\n",
       "    <tr>\n",
       "      <th>12970</th>\n",
       "      <td>ZYMES</td>\n",
       "      <td>0.190497</td>\n",
       "      <td>0.856587</td>\n",
       "      <td>1.237581</td>\n",
       "    </tr>\n",
       "    <tr>\n",
       "      <th>12971</th>\n",
       "      <td>ZYMIC</td>\n",
       "      <td>0.119222</td>\n",
       "      <td>0.677754</td>\n",
       "      <td>0.916199</td>\n",
       "    </tr>\n",
       "  </tbody>\n",
       "</table>\n",
       "<p>12972 rows × 4 columns</p>\n",
       "</div>"
      ],
      "text/plain": [
       "      herring    greens   yellows       sum\n",
       "0       AAHED  0.384449  1.180562  1.949460\n",
       "1       AALII  0.313607  1.310583  1.937797\n",
       "2       AARGH  0.355508  1.084665  1.795680\n",
       "3       AARTI  0.327430  1.387041  2.041901\n",
       "4       ABACA  0.293737  1.193089  1.780562\n",
       "...       ...       ...       ...       ...\n",
       "12967   ZUZIM  0.172786  0.463067  0.808639\n",
       "12968   ZYGAL  0.177970  0.819438  1.175378\n",
       "12969   ZYGON  0.153348  0.699784  1.006479\n",
       "12970   ZYMES  0.190497  0.856587  1.237581\n",
       "12971   ZYMIC  0.119222  0.677754  0.916199\n",
       "\n",
       "[12972 rows x 4 columns]"
      ]
     },
     "execution_count": 159,
     "metadata": {},
     "output_type": "execute_result"
    }
   ],
   "source": [
    "def process_guess(herring, solution):\n",
    "    score = []\n",
    "    for i, letter in enumerate(herring):\n",
    "        # right letter, right place\n",
    "        if herring[i] == solution[i]:\n",
    "            score.append(2)\n",
    "        # right letter, wrong place\n",
    "        elif letter in solution:\n",
    "            score.append(1)\n",
    "        # wrong letter, wrong place\n",
    "        else:\n",
    "            score.append(0)\n",
    "    return score\n",
    "\n",
    "def simulate_guess_for_all_solutions(herring, solution_pool):\n",
    "    heuristics = {'greens': [], 'yellows': [], 'sum': []}\n",
    "    for solution in solution_pool:\n",
    "        score = process_guess(herring, solution)\n",
    "        heuristics['greens'].append(score.count(2))\n",
    "        heuristics['yellows'].append(score.count(1))\n",
    "        heuristics['sum'].append(sum(score))\n",
    "    avg_heuristics = {k: np.mean(v) for k, v in heuristics.items()}\n",
    "    return avg_heuristics.values()\n",
    "        \n",
    "herring_df =  pd.DataFrame(orig_herrings, columns=['herring'])\n",
    "herring_df['greens'], herring_df['yellows'], herring_df['sum'] = zip(*herring_df['herring'].map(lambda x: simulate_guess_for_all_solutions(x, orig_solutions)))\n",
    "orig_herring_df = herring_df\n",
    "orig_herring_df"
   ]
  },
  {
   "cell_type": "code",
   "execution_count": 161,
   "metadata": {},
   "outputs": [
    {
     "data": {
      "text/html": [
       "<div>\n",
       "<style scoped>\n",
       "    .dataframe tbody tr th:only-of-type {\n",
       "        vertical-align: middle;\n",
       "    }\n",
       "\n",
       "    .dataframe tbody tr th {\n",
       "        vertical-align: top;\n",
       "    }\n",
       "\n",
       "    .dataframe thead th {\n",
       "        text-align: right;\n",
       "    }\n",
       "</style>\n",
       "<table border=\"1\" class=\"dataframe\">\n",
       "  <thead>\n",
       "    <tr style=\"text-align: right;\">\n",
       "      <th></th>\n",
       "      <th>herring</th>\n",
       "      <th>greens</th>\n",
       "      <th>yellows</th>\n",
       "      <th>sum</th>\n",
       "    </tr>\n",
       "  </thead>\n",
       "  <tbody>\n",
       "    <tr>\n",
       "      <th>9558</th>\n",
       "      <td>SAREE</td>\n",
       "      <td>0.680346</td>\n",
       "      <td>1.253132</td>\n",
       "      <td>2.613823</td>\n",
       "    </tr>\n",
       "    <tr>\n",
       "      <th>8908</th>\n",
       "      <td>RAREE</td>\n",
       "      <td>0.567603</td>\n",
       "      <td>1.460475</td>\n",
       "      <td>2.595680</td>\n",
       "    </tr>\n",
       "    <tr>\n",
       "      <th>9722</th>\n",
       "      <td>SEARE</td>\n",
       "      <td>0.644060</td>\n",
       "      <td>1.289417</td>\n",
       "      <td>2.577538</td>\n",
       "    </tr>\n",
       "    <tr>\n",
       "      <th>502</th>\n",
       "      <td>AREAE</td>\n",
       "      <td>0.506263</td>\n",
       "      <td>1.552916</td>\n",
       "      <td>2.565443</td>\n",
       "    </tr>\n",
       "    <tr>\n",
       "      <th>514</th>\n",
       "      <td>ARERE</td>\n",
       "      <td>0.501512</td>\n",
       "      <td>1.526566</td>\n",
       "      <td>2.529590</td>\n",
       "    </tr>\n",
       "    <tr>\n",
       "      <th>...</th>\n",
       "      <td>...</td>\n",
       "      <td>...</td>\n",
       "      <td>...</td>\n",
       "      <td>...</td>\n",
       "    </tr>\n",
       "    <tr>\n",
       "      <th>12967</th>\n",
       "      <td>ZUZIM</td>\n",
       "      <td>0.172786</td>\n",
       "      <td>0.463067</td>\n",
       "      <td>0.808639</td>\n",
       "    </tr>\n",
       "    <tr>\n",
       "      <th>4147</th>\n",
       "      <td>FUZZY</td>\n",
       "      <td>0.309719</td>\n",
       "      <td>0.187473</td>\n",
       "      <td>0.806911</td>\n",
       "    </tr>\n",
       "    <tr>\n",
       "      <th>8739</th>\n",
       "      <td>PZAZZ</td>\n",
       "      <td>0.205184</td>\n",
       "      <td>0.382289</td>\n",
       "      <td>0.792657</td>\n",
       "    </tr>\n",
       "    <tr>\n",
       "      <th>5981</th>\n",
       "      <td>KUDZU</td>\n",
       "      <td>0.130454</td>\n",
       "      <td>0.526566</td>\n",
       "      <td>0.787473</td>\n",
       "    </tr>\n",
       "    <tr>\n",
       "      <th>12480</th>\n",
       "      <td>WHIZZ</td>\n",
       "      <td>0.223326</td>\n",
       "      <td>0.333909</td>\n",
       "      <td>0.780562</td>\n",
       "    </tr>\n",
       "  </tbody>\n",
       "</table>\n",
       "<p>12972 rows × 4 columns</p>\n",
       "</div>"
      ],
      "text/plain": [
       "      herring    greens   yellows       sum\n",
       "9558    SAREE  0.680346  1.253132  2.613823\n",
       "8908    RAREE  0.567603  1.460475  2.595680\n",
       "9722    SEARE  0.644060  1.289417  2.577538\n",
       "502     AREAE  0.506263  1.552916  2.565443\n",
       "514     ARERE  0.501512  1.526566  2.529590\n",
       "...       ...       ...       ...       ...\n",
       "12967   ZUZIM  0.172786  0.463067  0.808639\n",
       "4147    FUZZY  0.309719  0.187473  0.806911\n",
       "8739    PZAZZ  0.205184  0.382289  0.792657\n",
       "5981    KUDZU  0.130454  0.526566  0.787473\n",
       "12480   WHIZZ  0.223326  0.333909  0.780562\n",
       "\n",
       "[12972 rows x 4 columns]"
      ]
     },
     "execution_count": 161,
     "metadata": {},
     "output_type": "execute_result"
    }
   ],
   "source": [
    "orig_herring_df.sort_values(by='sum', ascending=False)"
   ]
  },
  {
   "cell_type": "code",
   "execution_count": 223,
   "metadata": {},
   "outputs": [
    {
     "data": {
      "text/html": [
       "<pre style=\"white-space:pre;overflow-x:auto;line-height:normal;font-family:Menlo,'DejaVu Sans Mono',consolas,'Courier New',monospace\"><span style=\"color: #800000; text-decoration-color: #800000\">SAREE</span> <span style=\"font-weight: bold\">(</span>guess<span style=\"font-weight: bold\">)</span> | INBOX <span style=\"font-weight: bold\">(</span>solution<span style=\"font-weight: bold\">)</span>\n",
       "</pre>\n"
      ],
      "text/plain": [
       "\u001b[31mS\u001b[0m\u001b[31mA\u001b[0m\u001b[31mR\u001b[0m\u001b[31mE\u001b[0m\u001b[31mE\u001b[0m \u001b[1m(\u001b[0mguess\u001b[1m)\u001b[0m | INBOX \u001b[1m(\u001b[0msolution\u001b[1m)\u001b[0m\n"
      ]
     },
     "metadata": {},
     "output_type": "display_data"
    },
    {
     "data": {
      "text/html": [
       "<pre style=\"white-space:pre;overflow-x:auto;line-height:normal;font-family:Menlo,'DejaVu Sans Mono',consolas,'Courier New',monospace\"><span style=\"color: #808000; text-decoration-color: #808000\">NOI</span><span style=\"color: #800000; text-decoration-color: #800000\">LY</span> <span style=\"font-weight: bold\">(</span>guess<span style=\"font-weight: bold\">)</span> | INBOX <span style=\"font-weight: bold\">(</span>solution<span style=\"font-weight: bold\">)</span>\n",
       "</pre>\n"
      ],
      "text/plain": [
       "\u001b[33mN\u001b[0m\u001b[33mO\u001b[0m\u001b[33mI\u001b[0m\u001b[31mL\u001b[0m\u001b[31mY\u001b[0m \u001b[1m(\u001b[0mguess\u001b[1m)\u001b[0m | INBOX \u001b[1m(\u001b[0msolution\u001b[1m)\u001b[0m\n"
      ]
     },
     "metadata": {},
     "output_type": "display_data"
    },
    {
     "data": {
      "text/html": [
       "<pre style=\"white-space:pre;overflow-x:auto;line-height:normal;font-family:Menlo,'DejaVu Sans Mono',consolas,'Courier New',monospace\"><span style=\"color: #008000; text-decoration-color: #008000\">IN</span><span style=\"color: #808000; text-decoration-color: #808000\">I</span><span style=\"color: #008000; text-decoration-color: #008000\">O</span><span style=\"color: #808000; text-decoration-color: #808000\">N</span> <span style=\"font-weight: bold\">(</span>guess<span style=\"font-weight: bold\">)</span> | INBOX <span style=\"font-weight: bold\">(</span>solution<span style=\"font-weight: bold\">)</span>\n",
       "</pre>\n"
      ],
      "text/plain": [
       "\u001b[32mI\u001b[0m\u001b[32mN\u001b[0m\u001b[33mI\u001b[0m\u001b[32mO\u001b[0m\u001b[33mN\u001b[0m \u001b[1m(\u001b[0mguess\u001b[1m)\u001b[0m | INBOX \u001b[1m(\u001b[0msolution\u001b[1m)\u001b[0m\n"
      ]
     },
     "metadata": {},
     "output_type": "display_data"
    },
    {
     "data": {
      "text/html": [
       "<pre style=\"white-space:pre;overflow-x:auto;line-height:normal;font-family:Menlo,'DejaVu Sans Mono',consolas,'Courier New',monospace\"><span style=\"color: #008000; text-decoration-color: #008000\">INBOX</span> <span style=\"font-weight: bold\">(</span>guess<span style=\"font-weight: bold\">)</span> | INBOX <span style=\"font-weight: bold\">(</span>solution<span style=\"font-weight: bold\">)</span>\n",
       "</pre>\n"
      ],
      "text/plain": [
       "\u001b[32mI\u001b[0m\u001b[32mN\u001b[0m\u001b[32mB\u001b[0m\u001b[32mO\u001b[0m\u001b[32mX\u001b[0m \u001b[1m(\u001b[0mguess\u001b[1m)\u001b[0m | INBOX \u001b[1m(\u001b[0msolution\u001b[1m)\u001b[0m\n"
      ]
     },
     "metadata": {},
     "output_type": "display_data"
    },
    {
     "data": {
      "text/html": [
       "<pre style=\"white-space:pre;overflow-x:auto;line-height:normal;font-family:Menlo,'DejaVu Sans Mono',consolas,'Courier New',monospace\">YAY\n",
       "</pre>\n"
      ],
      "text/plain": [
       "YAY\n"
      ]
     },
     "metadata": {},
     "output_type": "display_data"
    },
    {
     "data": {
      "image/png": "[encoded data removed]",
      "text/plain": [
       "<Figure size 432x288 with 1 Axes>"
      ]
     },
     "metadata": {
      "needs_background": "light"
     },
     "output_type": "display_data"
    }
   ],
   "source": [
    "def filter_list(pool, guess, score):\n",
    "    for i, char in enumerate(guess):\n",
    "        if score[i] == 2:\n",
    "            pool = [word for word in pool if word[i] == char]\n",
    "        elif score[i] == 1:\n",
    "            pool = [word for word in pool if char in word]\n",
    "        else:\n",
    "            pool = [word for word in pool if char not in word]\n",
    "    return pool\n",
    "\n",
    "color_map = {2: 'green', 1: 'yellow', 0: 'red'}\n",
    "\n",
    "def simulate_round(guess, solution, herring_df, solution_pool):\n",
    "    score = process_guess(guess, solution)\n",
    "    colored_guess = \"\".join([f\"[{color_map[num]}]{char}[/{color_map[num]}]\" for num, char in zip(score, guess)])\n",
    "    print(f\"{colored_guess} (guess) | {solution} (solution)\")\n",
    "    if guess == solution:\n",
    "        return True\n",
    "    solution_pool = filter_list(solution_pool, guess, score)\n",
    "    herring_pool = filter_list(list(herring_df['herring']), guess, score)\n",
    "    if guess in herring_pool: herring_pool.remove(guess)\n",
    "    new_herring_df = herring_df.copy()\n",
    "    new_herring_df = new_herring_df[new_herring_df.herring.isin(herring_pool)]\n",
    "    # re-run simulation to get new heuristic scoring metrics\n",
    "    new_herring_df['greens'], new_herring_df['yellows'], new_herring_df['sum'] = zip(*new_herring_df['herring'].map(lambda x: simulate_guess_for_all_solutions(x, solution_pool)))\n",
    "    return solution_pool, new_herring_df\n",
    "\n",
    "    \n",
    "def run_simulation(solution):\n",
    "    global orig_solutions, orig_herring_df\n",
    "    solution_pool = orig_solutions\n",
    "    herring_df = orig_herring_df\n",
    "    count = 1\n",
    "    s_pool_size, h_pool_size = [], []\n",
    "    solved = False\n",
    "    while not solved:\n",
    "        # print(\"--------------\")\n",
    "        # print(f\"Guess #{count}\")\n",
    "        guess = herring_df.sort_values(by='sum', ascending=False).iloc[0, 0]\n",
    "        simu_results = simulate_round(guess, solution, herring_df, solution_pool)\n",
    "        if simu_results == True:\n",
    "            solved = True\n",
    "            print(\"YAY\")\n",
    "        else:\n",
    "            solution_pool, herring_df = simu_results\n",
    "            s_pool_size.append(len(solution_pool))\n",
    "            h_pool_size.append(len(herring_df))\n",
    "            # print(f\"herring pool size {len(herring_df)}\")\n",
    "            # print(f\"solution pool size {len(solution_pool)}\")\n",
    "        count += 1\n",
    "    fig = plt.figure()\n",
    "    plt.scatter(list(range(count-2)), h_pool_size, color='blue')\n",
    "    plt.scatter(list(range(count-2)), s_pool_size, color='orange')\n",
    "    \n",
    "solution = random.choice(orig_solutions)\n",
    "run_simulation(solution)"
   ]
  },
  {
   "cell_type": "code",
   "execution_count": null,
   "metadata": {},
   "outputs": [],
   "source": []
  }
 ],
 "metadata": {
  "interpreter": {
   "hash": "da71079b110e9c718129ede19a8ed4bce4a2e6cb1a49d2635bb42c67b9839010"
  },
  "kernelspec": {
   "display_name": "Python 3.8.0 64-bit ('3.8.0': pyenv)",
   "language": "python",
   "name": "python3"
  },
  "language_info": {
   "codemirror_mode": {
    "name": "ipython",
    "version": 3
   },
   "file_extension": ".py",
   "mimetype": "text/x-python",
   "name": "python",
   "nbconvert_exporter": "python",
   "pygments_lexer": "ipython3",
   "version": "3.7.6"
  },
  "orig_nbformat": 4
 },
 "nbformat": 4,
 "nbformat_minor": 2
}
